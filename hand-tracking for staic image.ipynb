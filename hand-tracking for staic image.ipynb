{
 "cells": [
  {
   "attachments": {},
   "cell_type": "markdown",
   "metadata": {},
   "source": [
    "## HnadTracking for static image"
   ]
  },
  {
   "cell_type": "code",
   "execution_count": null,
   "metadata": {},
   "outputs": [],
   "source": [
    "import cv2\n",
    "import mediapipe as mp\n",
    "import time\n",
    "mphands = mp.solutions.hands\n",
    "hands = mphands.Hands()\n",
    "mpDraw = mp.solutions.drawing_utils\n",
    "\n",
    "img = cv2.imread('C:\\opencv\\photos\\hand.jpg')\n",
    "# img = cv2.flip(img, 1)\n",
    "imgRGB = cv2.cvtColor(img, cv2.COLOR_BGR2RGB)\n",
    "results = hands.process(imgRGB)\n",
    "# if hands are present  in the picture\n",
    "if results.multi_hand_landmarks:\n",
    "\n",
    "    for handlms in results.multi_hand_landmarks:\n",
    "        for id, lm in enumerate(handlms.landmark):\n",
    "            h, w, c = img.shape\n",
    "            cx, cy = int(lm.x*w), int(lm.y*h)\n",
    "            print(id, cx, cy)\n",
    "            if id == 0:\n",
    "                cv2.circle(img,(cx, cy), 25, (255, 0, 255), cv2.FILLED)\n",
    "\n",
    "        mpDraw.draw_landmarks(img, handlms, mphands.HAND_CONNECTIONS)\n",
    "    \n",
    "\n",
    "\n",
    "ctime = time.time()\n",
    "fps = 1/(ctime-ptime)\n",
    "ptime = ctime\n",
    "img = cv2.resize(img, (800, 900 ))\n",
    "# cv2.putText(img, str(handlms),(10, 70),cv2.FONT_HERSHEY_PLAIN,3,(255,0,255),3)\n",
    "# cv2.putText(img, str(int(fps)), (10, 70),cv2.FONT_HERSHEY_PLAIN,3,(255,0,255),3)\n",
    "cv2.imwrite('handresult.jpg', img)\n",
    "cv2.imshow(\"image\", img)\n",
    "cv2.waitKey(0)"
   ]
  }
 ],
 "metadata": {
  "language_info": {
   "name": "python"
  },
  "orig_nbformat": 4
 },
 "nbformat": 4,
 "nbformat_minor": 2
}
